{
 "cells": [
  {
   "cell_type": "code",
   "execution_count": 2,
   "id": "9882b96c-b11d-4dec-b4c4-fee41a297dcb",
   "metadata": {},
   "outputs": [],
   "source": [
    "import os\n",
    "import numpy as np\n",
    "import matplotlib.pyplot as plt\n",
    "import seaborn as sns\n",
    "from pandas import DataFrame, concat, read_csv\n",
    "sns.set_theme(style='white', context='notebook', font_scale=1.33)"
   ]
  },
  {
   "cell_type": "markdown",
   "id": "788a0844-5dae-413e-b2f8-5b865e753d1b",
   "metadata": {},
   "source": [
    "## Section 1: Posterior Predictive Model Checking"
   ]
  },
  {
   "cell_type": "markdown",
   "id": "d6e35657-31e8-477e-8b32-5db58bdda1e5",
   "metadata": {},
   "source": [
    "### 1.1 Observed score distribution"
   ]
  },
  {
   "cell_type": "code",
   "execution_count": 3,
   "id": "56b9af25-cbf4-479d-8058-b80a6d62854c",
   "metadata": {},
   "outputs": [
    {
     "ename": "FileNotFoundError",
     "evalue": "[Errno 2] No such file or directory: 'stan_results/teicher2015/2plq_m2_ppmc1.csv'",
     "output_type": "error",
     "traceback": [
      "\u001b[0;31m---------------------------------------------------------------------------\u001b[0m",
      "\u001b[0;31mFileNotFoundError\u001b[0m                         Traceback (most recent call last)",
      "\u001b[0;32m<ipython-input-3-9fe23ac07b37>\u001b[0m in \u001b[0;36m<module>\u001b[0;34m\u001b[0m\n\u001b[1;32m      8\u001b[0m \u001b[0;34m\u001b[0m\u001b[0m\n\u001b[1;32m      9\u001b[0m     \u001b[0;31m## Load posterior predictive check.\u001b[0m\u001b[0;34m\u001b[0m\u001b[0;34m\u001b[0m\u001b[0;34m\u001b[0m\u001b[0m\n\u001b[0;32m---> 10\u001b[0;31m     \u001b[0mdf\u001b[0m \u001b[0;34m=\u001b[0m \u001b[0mread_csv\u001b[0m\u001b[0;34m(\u001b[0m\u001b[0mos\u001b[0m\u001b[0;34m.\u001b[0m\u001b[0mpath\u001b[0m\u001b[0;34m.\u001b[0m\u001b[0mjoin\u001b[0m\u001b[0;34m(\u001b[0m\u001b[0;34m'stan_results'\u001b[0m\u001b[0;34m,\u001b[0m \u001b[0mstudy\u001b[0m\u001b[0;34m,\u001b[0m \u001b[0;34m'2plq_m2_ppmc1.csv'\u001b[0m\u001b[0;34m)\u001b[0m\u001b[0;34m,\u001b[0m \u001b[0mindex_col\u001b[0m\u001b[0;34m=\u001b[0m\u001b[0;36m0\u001b[0m\u001b[0;34m)\u001b[0m\u001b[0;34m\u001b[0m\u001b[0;34m\u001b[0m\u001b[0m\n\u001b[0m\u001b[1;32m     11\u001b[0m \u001b[0;34m\u001b[0m\u001b[0m\n\u001b[1;32m     12\u001b[0m     \u001b[0;31m## Normalize counts across samples.\u001b[0m\u001b[0;34m\u001b[0m\u001b[0;34m\u001b[0m\u001b[0;34m\u001b[0m\u001b[0m\n",
      "\u001b[0;32m~/Documents/software/anaconda3.7/lib/python3.7/site-packages/pandas/util/_decorators.py\u001b[0m in \u001b[0;36mwrapper\u001b[0;34m(*args, **kwargs)\u001b[0m\n\u001b[1;32m    309\u001b[0m                     \u001b[0mstacklevel\u001b[0m\u001b[0;34m=\u001b[0m\u001b[0mstacklevel\u001b[0m\u001b[0;34m,\u001b[0m\u001b[0;34m\u001b[0m\u001b[0;34m\u001b[0m\u001b[0m\n\u001b[1;32m    310\u001b[0m                 )\n\u001b[0;32m--> 311\u001b[0;31m             \u001b[0;32mreturn\u001b[0m \u001b[0mfunc\u001b[0m\u001b[0;34m(\u001b[0m\u001b[0;34m*\u001b[0m\u001b[0margs\u001b[0m\u001b[0;34m,\u001b[0m \u001b[0;34m**\u001b[0m\u001b[0mkwargs\u001b[0m\u001b[0;34m)\u001b[0m\u001b[0;34m\u001b[0m\u001b[0;34m\u001b[0m\u001b[0m\n\u001b[0m\u001b[1;32m    312\u001b[0m \u001b[0;34m\u001b[0m\u001b[0m\n\u001b[1;32m    313\u001b[0m         \u001b[0;32mreturn\u001b[0m \u001b[0mwrapper\u001b[0m\u001b[0;34m\u001b[0m\u001b[0;34m\u001b[0m\u001b[0m\n",
      "\u001b[0;32m~/Documents/software/anaconda3.7/lib/python3.7/site-packages/pandas/io/parsers/readers.py\u001b[0m in \u001b[0;36mread_csv\u001b[0;34m(filepath_or_buffer, sep, delimiter, header, names, index_col, usecols, squeeze, prefix, mangle_dupe_cols, dtype, engine, converters, true_values, false_values, skipinitialspace, skiprows, skipfooter, nrows, na_values, keep_default_na, na_filter, verbose, skip_blank_lines, parse_dates, infer_datetime_format, keep_date_col, date_parser, dayfirst, cache_dates, iterator, chunksize, compression, thousands, decimal, lineterminator, quotechar, quoting, doublequote, escapechar, comment, encoding, encoding_errors, dialect, error_bad_lines, warn_bad_lines, on_bad_lines, delim_whitespace, low_memory, memory_map, float_precision, storage_options)\u001b[0m\n\u001b[1;32m    584\u001b[0m     \u001b[0mkwds\u001b[0m\u001b[0;34m.\u001b[0m\u001b[0mupdate\u001b[0m\u001b[0;34m(\u001b[0m\u001b[0mkwds_defaults\u001b[0m\u001b[0;34m)\u001b[0m\u001b[0;34m\u001b[0m\u001b[0;34m\u001b[0m\u001b[0m\n\u001b[1;32m    585\u001b[0m \u001b[0;34m\u001b[0m\u001b[0m\n\u001b[0;32m--> 586\u001b[0;31m     \u001b[0;32mreturn\u001b[0m \u001b[0m_read\u001b[0m\u001b[0;34m(\u001b[0m\u001b[0mfilepath_or_buffer\u001b[0m\u001b[0;34m,\u001b[0m \u001b[0mkwds\u001b[0m\u001b[0;34m)\u001b[0m\u001b[0;34m\u001b[0m\u001b[0;34m\u001b[0m\u001b[0m\n\u001b[0m\u001b[1;32m    587\u001b[0m \u001b[0;34m\u001b[0m\u001b[0m\n\u001b[1;32m    588\u001b[0m \u001b[0;34m\u001b[0m\u001b[0m\n",
      "\u001b[0;32m~/Documents/software/anaconda3.7/lib/python3.7/site-packages/pandas/io/parsers/readers.py\u001b[0m in \u001b[0;36m_read\u001b[0;34m(filepath_or_buffer, kwds)\u001b[0m\n\u001b[1;32m    480\u001b[0m \u001b[0;34m\u001b[0m\u001b[0m\n\u001b[1;32m    481\u001b[0m     \u001b[0;31m# Create the parser.\u001b[0m\u001b[0;34m\u001b[0m\u001b[0;34m\u001b[0m\u001b[0;34m\u001b[0m\u001b[0m\n\u001b[0;32m--> 482\u001b[0;31m     \u001b[0mparser\u001b[0m \u001b[0;34m=\u001b[0m \u001b[0mTextFileReader\u001b[0m\u001b[0;34m(\u001b[0m\u001b[0mfilepath_or_buffer\u001b[0m\u001b[0;34m,\u001b[0m \u001b[0;34m**\u001b[0m\u001b[0mkwds\u001b[0m\u001b[0;34m)\u001b[0m\u001b[0;34m\u001b[0m\u001b[0;34m\u001b[0m\u001b[0m\n\u001b[0m\u001b[1;32m    483\u001b[0m \u001b[0;34m\u001b[0m\u001b[0m\n\u001b[1;32m    484\u001b[0m     \u001b[0;32mif\u001b[0m \u001b[0mchunksize\u001b[0m \u001b[0;32mor\u001b[0m \u001b[0miterator\u001b[0m\u001b[0;34m:\u001b[0m\u001b[0;34m\u001b[0m\u001b[0;34m\u001b[0m\u001b[0m\n",
      "\u001b[0;32m~/Documents/software/anaconda3.7/lib/python3.7/site-packages/pandas/io/parsers/readers.py\u001b[0m in \u001b[0;36m__init__\u001b[0;34m(self, f, engine, **kwds)\u001b[0m\n\u001b[1;32m    809\u001b[0m             \u001b[0mself\u001b[0m\u001b[0;34m.\u001b[0m\u001b[0moptions\u001b[0m\u001b[0;34m[\u001b[0m\u001b[0;34m\"has_index_names\"\u001b[0m\u001b[0;34m]\u001b[0m \u001b[0;34m=\u001b[0m \u001b[0mkwds\u001b[0m\u001b[0;34m[\u001b[0m\u001b[0;34m\"has_index_names\"\u001b[0m\u001b[0;34m]\u001b[0m\u001b[0;34m\u001b[0m\u001b[0;34m\u001b[0m\u001b[0m\n\u001b[1;32m    810\u001b[0m \u001b[0;34m\u001b[0m\u001b[0m\n\u001b[0;32m--> 811\u001b[0;31m         \u001b[0mself\u001b[0m\u001b[0;34m.\u001b[0m\u001b[0m_engine\u001b[0m \u001b[0;34m=\u001b[0m \u001b[0mself\u001b[0m\u001b[0;34m.\u001b[0m\u001b[0m_make_engine\u001b[0m\u001b[0;34m(\u001b[0m\u001b[0mself\u001b[0m\u001b[0;34m.\u001b[0m\u001b[0mengine\u001b[0m\u001b[0;34m)\u001b[0m\u001b[0;34m\u001b[0m\u001b[0;34m\u001b[0m\u001b[0m\n\u001b[0m\u001b[1;32m    812\u001b[0m \u001b[0;34m\u001b[0m\u001b[0m\n\u001b[1;32m    813\u001b[0m     \u001b[0;32mdef\u001b[0m \u001b[0mclose\u001b[0m\u001b[0;34m(\u001b[0m\u001b[0mself\u001b[0m\u001b[0;34m)\u001b[0m\u001b[0;34m:\u001b[0m\u001b[0;34m\u001b[0m\u001b[0;34m\u001b[0m\u001b[0m\n",
      "\u001b[0;32m~/Documents/software/anaconda3.7/lib/python3.7/site-packages/pandas/io/parsers/readers.py\u001b[0m in \u001b[0;36m_make_engine\u001b[0;34m(self, engine)\u001b[0m\n\u001b[1;32m   1038\u001b[0m             )\n\u001b[1;32m   1039\u001b[0m         \u001b[0;31m# error: Too many arguments for \"ParserBase\"\u001b[0m\u001b[0;34m\u001b[0m\u001b[0;34m\u001b[0m\u001b[0;34m\u001b[0m\u001b[0m\n\u001b[0;32m-> 1040\u001b[0;31m         \u001b[0;32mreturn\u001b[0m \u001b[0mmapping\u001b[0m\u001b[0;34m[\u001b[0m\u001b[0mengine\u001b[0m\u001b[0;34m]\u001b[0m\u001b[0;34m(\u001b[0m\u001b[0mself\u001b[0m\u001b[0;34m.\u001b[0m\u001b[0mf\u001b[0m\u001b[0;34m,\u001b[0m \u001b[0;34m**\u001b[0m\u001b[0mself\u001b[0m\u001b[0;34m.\u001b[0m\u001b[0moptions\u001b[0m\u001b[0;34m)\u001b[0m  \u001b[0;31m# type: ignore[call-arg]\u001b[0m\u001b[0;34m\u001b[0m\u001b[0;34m\u001b[0m\u001b[0m\n\u001b[0m\u001b[1;32m   1041\u001b[0m \u001b[0;34m\u001b[0m\u001b[0m\n\u001b[1;32m   1042\u001b[0m     \u001b[0;32mdef\u001b[0m \u001b[0m_failover_to_python\u001b[0m\u001b[0;34m(\u001b[0m\u001b[0mself\u001b[0m\u001b[0;34m)\u001b[0m\u001b[0;34m:\u001b[0m\u001b[0;34m\u001b[0m\u001b[0;34m\u001b[0m\u001b[0m\n",
      "\u001b[0;32m~/Documents/software/anaconda3.7/lib/python3.7/site-packages/pandas/io/parsers/c_parser_wrapper.py\u001b[0m in \u001b[0;36m__init__\u001b[0;34m(self, src, **kwds)\u001b[0m\n\u001b[1;32m     49\u001b[0m \u001b[0;34m\u001b[0m\u001b[0m\n\u001b[1;32m     50\u001b[0m         \u001b[0;31m# open handles\u001b[0m\u001b[0;34m\u001b[0m\u001b[0;34m\u001b[0m\u001b[0;34m\u001b[0m\u001b[0m\n\u001b[0;32m---> 51\u001b[0;31m         \u001b[0mself\u001b[0m\u001b[0;34m.\u001b[0m\u001b[0m_open_handles\u001b[0m\u001b[0;34m(\u001b[0m\u001b[0msrc\u001b[0m\u001b[0;34m,\u001b[0m \u001b[0mkwds\u001b[0m\u001b[0;34m)\u001b[0m\u001b[0;34m\u001b[0m\u001b[0;34m\u001b[0m\u001b[0m\n\u001b[0m\u001b[1;32m     52\u001b[0m         \u001b[0;32massert\u001b[0m \u001b[0mself\u001b[0m\u001b[0;34m.\u001b[0m\u001b[0mhandles\u001b[0m \u001b[0;32mis\u001b[0m \u001b[0;32mnot\u001b[0m \u001b[0;32mNone\u001b[0m\u001b[0;34m\u001b[0m\u001b[0;34m\u001b[0m\u001b[0m\n\u001b[1;32m     53\u001b[0m \u001b[0;34m\u001b[0m\u001b[0m\n",
      "\u001b[0;32m~/Documents/software/anaconda3.7/lib/python3.7/site-packages/pandas/io/parsers/base_parser.py\u001b[0m in \u001b[0;36m_open_handles\u001b[0;34m(self, src, kwds)\u001b[0m\n\u001b[1;32m    227\u001b[0m             \u001b[0mmemory_map\u001b[0m\u001b[0;34m=\u001b[0m\u001b[0mkwds\u001b[0m\u001b[0;34m.\u001b[0m\u001b[0mget\u001b[0m\u001b[0;34m(\u001b[0m\u001b[0;34m\"memory_map\"\u001b[0m\u001b[0;34m,\u001b[0m \u001b[0;32mFalse\u001b[0m\u001b[0;34m)\u001b[0m\u001b[0;34m,\u001b[0m\u001b[0;34m\u001b[0m\u001b[0;34m\u001b[0m\u001b[0m\n\u001b[1;32m    228\u001b[0m             \u001b[0mstorage_options\u001b[0m\u001b[0;34m=\u001b[0m\u001b[0mkwds\u001b[0m\u001b[0;34m.\u001b[0m\u001b[0mget\u001b[0m\u001b[0;34m(\u001b[0m\u001b[0;34m\"storage_options\"\u001b[0m\u001b[0;34m,\u001b[0m \u001b[0;32mNone\u001b[0m\u001b[0;34m)\u001b[0m\u001b[0;34m,\u001b[0m\u001b[0;34m\u001b[0m\u001b[0;34m\u001b[0m\u001b[0m\n\u001b[0;32m--> 229\u001b[0;31m             \u001b[0merrors\u001b[0m\u001b[0;34m=\u001b[0m\u001b[0mkwds\u001b[0m\u001b[0;34m.\u001b[0m\u001b[0mget\u001b[0m\u001b[0;34m(\u001b[0m\u001b[0;34m\"encoding_errors\"\u001b[0m\u001b[0;34m,\u001b[0m \u001b[0;34m\"strict\"\u001b[0m\u001b[0;34m)\u001b[0m\u001b[0;34m,\u001b[0m\u001b[0;34m\u001b[0m\u001b[0;34m\u001b[0m\u001b[0m\n\u001b[0m\u001b[1;32m    230\u001b[0m         )\n\u001b[1;32m    231\u001b[0m \u001b[0;34m\u001b[0m\u001b[0m\n",
      "\u001b[0;32m~/Documents/software/anaconda3.7/lib/python3.7/site-packages/pandas/io/common.py\u001b[0m in \u001b[0;36mget_handle\u001b[0;34m(path_or_buf, mode, encoding, compression, memory_map, is_text, errors, storage_options)\u001b[0m\n\u001b[1;32m    705\u001b[0m                 \u001b[0mencoding\u001b[0m\u001b[0;34m=\u001b[0m\u001b[0mioargs\u001b[0m\u001b[0;34m.\u001b[0m\u001b[0mencoding\u001b[0m\u001b[0;34m,\u001b[0m\u001b[0;34m\u001b[0m\u001b[0;34m\u001b[0m\u001b[0m\n\u001b[1;32m    706\u001b[0m                 \u001b[0merrors\u001b[0m\u001b[0;34m=\u001b[0m\u001b[0merrors\u001b[0m\u001b[0;34m,\u001b[0m\u001b[0;34m\u001b[0m\u001b[0;34m\u001b[0m\u001b[0m\n\u001b[0;32m--> 707\u001b[0;31m                 \u001b[0mnewline\u001b[0m\u001b[0;34m=\u001b[0m\u001b[0;34m\"\"\u001b[0m\u001b[0;34m,\u001b[0m\u001b[0;34m\u001b[0m\u001b[0;34m\u001b[0m\u001b[0m\n\u001b[0m\u001b[1;32m    708\u001b[0m             )\n\u001b[1;32m    709\u001b[0m         \u001b[0;32melse\u001b[0m\u001b[0;34m:\u001b[0m\u001b[0;34m\u001b[0m\u001b[0;34m\u001b[0m\u001b[0m\n",
      "\u001b[0;31mFileNotFoundError\u001b[0m: [Errno 2] No such file or directory: 'stan_results/teicher2015/2plq_m2_ppmc1.csv'"
     ]
    },
    {
     "data": {
      "image/png": "[encoded data removed]",
      "text/plain": [
       "<Figure size 864x288 with 3 Axes>"
      ]
     },
     "metadata": {},
     "output_type": "display_data"
    }
   ],
   "source": [
    "from arviz import hdi\n",
    "\n",
    "## Initialize canvas.\n",
    "fig, axes = plt.subplots(1, 3, figsize=(12,4), sharex=True, sharey=True)\n",
    "studies = ['teicher2015','tuominen2022','joint']\n",
    "\n",
    "for i, (ax, study) in enumerate(zip(axes, studies)):\n",
    "\n",
    "    ## Load posterior predictive check.\n",
    "    df = read_csv(os.path.join('stan_results', study, '2plq_m2_ppmc1.csv'), index_col=0)\n",
    "    \n",
    "    ## Normalize counts across samples.\n",
    "    df.loc[:,:] /= df.loc[0].values.sum()\n",
    "    \n",
    "    ## Extract values.\n",
    "    NC  = df.values[0]\n",
    "    NCr = df.values[1:]\n",
    "    ENC = NCr.mean(axis=0)\n",
    "    \n",
    "    ## Compute 95% HDI.\n",
    "    lb, ub = np.apply_along_axis(hdi, 0, NCr, hdi_prob=0.95)\n",
    "    \n",
    "    ## Compute chi-square statistics.\n",
    "    xi = np.sum(np.divide(np.square(NC - ENC), ENC, where=ENC > 0))\n",
    "    xr = np.divide(np.square(NCr - ENC), ENC, where=ENC > 0).sum(axis=1)\n",
    "    \n",
    "    ## Compute ppp-value.\n",
    "    pppv = (xi >= xr).mean()\n",
    "\n",
    "    ## Plot observed scores and 95% HDI.\n",
    "    ax.plot(np.arange(NC.size), NC, 'o-', color='k', lw=1, markersize=4)    \n",
    "    ax.fill_between(np.arange(NC.size), lb, ub, color='0.5', alpha=0.2)\n",
    "    \n",
    "    ## Add detail.\n",
    "    ax.set(xticks=np.arange(0,51,10), xlabel='Observed scores', yticks=np.arange(0,0.09,0.02), \n",
    "           yticklabels=np.arange(0,9,2), ylabel='', title=study)\n",
    "    if not i: ax.set_ylabel('Percent sample')\n",
    "    \n",
    "    ## Add annotations.\n",
    "    ax.annotate(r'$\\chi^2$ = %0.3f (p = %0.3f)' %(xi, pppv), (0,0), (0.97, 0.97), \n",
    "                xycoords='axes fraction', ha='right', va='top', fontsize=14)\n",
    "    \n",
    "sns.despine()\n",
    "plt.tight_layout()"
   ]
  },
  {
   "cell_type": "markdown",
   "id": "1e0580cc-e96f-44fa-873d-36b89a833640",
   "metadata": {},
   "source": [
    "## Section 2: Factor Loadings"
   ]
  },
  {
   "cell_type": "code",
   "execution_count": null,
   "id": "d802cf1c-824e-4ffb-8a54-75f22dc4c07e",
   "metadata": {},
   "outputs": [],
   "source": [
    "## Load design data.\n",
    "design = read_csv(os.path.join('data', 'design.csv'), index_col=0)\n",
    "design = design[design.columns[:11]]\n",
    "\n",
    "## Load Stan summary.\n",
    "summary = read_csv(os.path.join('stan_results', 'joint', '2plq_m2_summary.tsv'), sep='\\t', index_col=0)\n",
    "\n",
    "## Extract factor loadings.\n",
    "loadings = np.zeros((len(design), 2)).astype(float)\n",
    "for i, j in np.column_stack([np.where(design)]).T:\n",
    "    loadings[i,int(j > 0)] = summary.loc[f'lambda[{i+1},{j+1}]','Mean']\n",
    "    \n",
    "## Convert to DataFrame.\n",
    "loadings = DataFrame(loadings, columns=['general','group'])\n",
    "loadings.insert(0, 'item', design.index)\n",
    "loadings.insert(0, 'subscale', design.columns[np.argmax(design.values[:,1:], axis=1)+1])\n",
    "\n",
    "order = ['PVA', 'NVEA', 'PN', 'WSV', 'WIPV', 'EN', 'PPhysA', 'SexA', 'PeerVA', 'PeerPhysA']\n",
    "loadings = loadings.sort_values('general', ascending=False)\n",
    "loadings = loadings.set_index('subscale').loc[order].reset_index()\n",
    "loadings['color'] = np.where(loadings.general > loadings.group, 'k', '#dd8452')\n",
    "loadings.index = np.cumsum(np.where(loadings.subscale == np.roll(loadings.subscale, 1), 1, 2.5)) - 2.5\n",
    "\n",
    "fig, ax = plt.subplots(1, 1, figsize=(12,4), constrained_layout=True)\n",
    "\n",
    "for i, row in loadings.iterrows():\n",
    "    ax.plot([i, i], [row.general, row.group], lw=2, color=row.color, zorder=-1)\n",
    "    ax.scatter(i, row.general, s=60, color=row.color)\n",
    "    \n",
    "ax.set(xlim=(loadings.index.min()-1, loadings.index.max()+1), xticks=loadings.index, \n",
    "       ylim=(0.0,0.88), ylabel='Factor loadings')\n",
    "ax.set_xticklabels(loadings.item, fontsize=11)\n",
    "ax.grid(which='major', axis='y', color='0.4', lw=0.1, zorder=-10)\n",
    "\n",
    "sns.despine(left=True)"
   ]
  },
  {
   "cell_type": "markdown",
   "id": "93e6331f-6a0b-4977-a304-04804361b358",
   "metadata": {},
   "source": [
    "#### Model 2a [Bifactor w/ 10 groups, joint data]"
   ]
  },
  {
   "cell_type": "code",
   "execution_count": null,
   "id": "bcce166d-10e3-4a33-b6a7-adae10dd474a",
   "metadata": {},
   "outputs": [],
   "source": [
    "studies = ['joint']\n",
    "\n",
    "## Load design data.\n",
    "design = read_csv(os.path.join('data', 'design.csv'), index_col=0)\n",
    "design = design[design.columns[:11]]\n",
    "\n",
    "stats = []\n",
    "for study in studies:\n",
    "    \n",
    "    #~~~~~~~~~~~~~~~~~~~~~~~~~~~~~~~~~~~~~~~~~~#\n",
    "    ### Load and prepare data.\n",
    "    #~~~~~~~~~~~~~~~~~~~~~~~~~~~~~~~~~~~~~~~~~~#\n",
    "\n",
    "    ## Load Stan summary.\n",
    "    summary = read_csv(os.path.join('stan_results', study, '2plq_m2_summary.tsv'), sep='\\t', index_col=0)\n",
    "    \n",
    "    ## Extract factor loadings.\n",
    "    loadings = np.zeros_like(design).astype(float)\n",
    "    for i, j in np.column_stack([np.where(design)]).T:\n",
    "        loadings[i,j] = summary.loc[f'lambda[{i+1},{j+1}]','Mean']\n",
    "        \n",
    "    ## Convert to DataFrame.\n",
    "    loadings = DataFrame(loadings.round(3), columns=design.columns, index=design.index)\n",
    "    \n",
    "    ## Re-organize DataFrame.\n",
    "    cols = ['general','PVA','PPhysA','NVEA','SexA','EN','PN','WSV','WIPV','PeerVA','PeerPhysA']\n",
    "    idx = np.concatenate([np.where(loadings[col])[0]+1 for col in cols[1:]])\n",
    "    loadings = loadings.loc[idx, cols]\n",
    "    \n",
    "    ## Compute summary.\n",
    "    loadings = loadings.replace({0:np.nan})\n",
    "    averages = loadings.median()\n",
    "    averages.name = 'summary'\n",
    "    loadings = loadings.append(averages)\n",
    "    \n",
    "    ## Format DataFrame.\n",
    "    loadings.loc[:,:] = np.where(loadings.notnull(), loadings.applymap(lambda x: '%0.3f' %x), '')"
   ]
  },
  {
   "cell_type": "code",
   "execution_count": null,
   "id": "900b244a-82ca-4720-85b9-4f97667da13b",
   "metadata": {},
   "outputs": [],
   "source": [
    "print(loadings.to_latex())"
   ]
  },
  {
   "cell_type": "markdown",
   "id": "1f916feb-0345-4bb9-80d7-ec04513adb83",
   "metadata": {},
   "source": [
    "## Section 3: Variance Decomposition"
   ]
  },
  {
   "cell_type": "code",
   "execution_count": null,
   "id": "41df98d6-5060-443b-9160-44679546b8a0",
   "metadata": {},
   "outputs": [],
   "source": [
    "studies = ['teicher2015', 'tuominen2022', 'joint']\n",
    "\n",
    "## Load design data.\n",
    "design = read_csv(os.path.join('data', 'design.csv'), index_col=0)\n",
    "design = design[design.columns[:11]]\n",
    "\n",
    "stats = []\n",
    "for study in studies:\n",
    "    \n",
    "    #~~~~~~~~~~~~~~~~~~~~~~~~~~~~~~~~~~~~~~~~~~#\n",
    "    ### Load and prepare data.\n",
    "    #~~~~~~~~~~~~~~~~~~~~~~~~~~~~~~~~~~~~~~~~~~#\n",
    "\n",
    "    ## Load Stan summary.\n",
    "    summary = read_csv(os.path.join('stan_results', study, '2plq_m2_summary.tsv'), sep='\\t', index_col=0)\n",
    "    \n",
    "    ## Extract factor loadings.\n",
    "    loadings = np.zeros_like(design).astype(float)\n",
    "    for i, j in np.column_stack([np.where(design)]).T:\n",
    "        loadings[i,j] = summary.loc[f'lambda[{i+1},{j+1}]','Mean']\n",
    "        \n",
    "    #~~~~~~~~~~~~~~~~~~~~~~~~~~~~~~~~~~~~~~~~~~#\n",
    "    ### Coefficient omega hierachical.\n",
    "    #~~~~~~~~~~~~~~~~~~~~~~~~~~~~~~~~~~~~~~~~~~#\n",
    "        \n",
    "    ## Preallocate space.\n",
    "    omega   = np.zeros(len(design.columns))\n",
    "    omega_s = np.zeros(len(design.columns))\n",
    "        \n",
    "    ## Iterate over factors.\n",
    "    for i, col in enumerate(design.columns):\n",
    "        \n",
    "        ## Restrict to items in group.\n",
    "        L = loadings[design[col]==1]\n",
    "        \n",
    "        ## Compute squared sum of factor loadings.\n",
    "        A = np.square(np.sum(L, axis=0))\n",
    "        \n",
    "        ## Compute sum of error variances.\n",
    "        B = np.sum(1 - np.square(L).sum(axis=1))\n",
    "        \n",
    "        ## Compute total variance.\n",
    "        C = np.sum(A) + B\n",
    "        \n",
    "        ## Compute coefficient omega.\n",
    "        omega[i] = A.sum() / C\n",
    "        \n",
    "        ## Compute coefficient omega subscale.\n",
    "        omega_s[i] = A[i] / C\n",
    "        \n",
    "    #~~~~~~~~~~~~~~~~~~~~~~~~~~~~~~~~~~~~~~~~~~#\n",
    "    ### Explained common variance.\n",
    "    #~~~~~~~~~~~~~~~~~~~~~~~~~~~~~~~~~~~~~~~~~~#\n",
    "        \n",
    "    ## Compute sum of squares.\n",
    "    ss = np.square(loadings).sum(axis=0)\n",
    "    \n",
    "    ## Compute explained common variance.\n",
    "    ecv = ss / ss.sum()\n",
    "    \n",
    "    #~~~~~~~~~~~~~~~~~~~~~~~~~~~~~~~~~~~~~~~~~~#\n",
    "    ### H-index\n",
    "    #~~~~~~~~~~~~~~~~~~~~~~~~~~~~~~~~~~~~~~~~~~#\n",
    "    \n",
    "    ## Preallocate space.\n",
    "    H = np.zeros(len(design.columns))\n",
    "    \n",
    "    ## Iterate over factors.\n",
    "    for i, col in enumerate(design.columns):\n",
    "        \n",
    "        ## Compute squared loadings.\n",
    "        s = np.square(loadings[:,i])\n",
    "        \n",
    "        ## Compute H-index.\n",
    "        H[i] = 1. / (1 + 1 / np.sum(s / (1-s)))\n",
    "    \n",
    "    #~~~~~~~~~~~~~~~~~~~~~~~~~~~~~~~~~~~~~~~~~~#\n",
    "    ### Convert to DataFrame.\n",
    "    #~~~~~~~~~~~~~~~~~~~~~~~~~~~~~~~~~~~~~~~~~~#\n",
    "    \n",
    "    stats.append(DataFrame(dict(\n",
    "        subscale = design.columns,\n",
    "        study = np.repeat(study, design.columns.size),\n",
    "        ecv = ecv,\n",
    "        omega = omega,\n",
    "        omega_s = omega_s,\n",
    "        H = H\n",
    "    )))\n",
    "    \n",
    "## Concatenate DataFrames.\n",
    "stats = concat(stats).replace({'teicher2015':1, 'tuominen2022': 2, 'joint': 3})\n",
    "\n",
    "## Convert to pivot table.\n",
    "stats = stats.pivot_table(['omega','omega_s','ecv','H'], 'subscale', 'study')\n",
    "\n",
    "## Re-organize table.\n",
    "index = ['general', 'PVA', 'PPhysA', 'NVEA', 'SexA', 'EN', 'PN', 'WSV', 'WIPV', 'PeerVA', 'PeerPhysA']\n",
    "stats = stats.loc[index, ['omega','omega_s','ecv','H']]"
   ]
  },
  {
   "cell_type": "code",
   "execution_count": null,
   "id": "f419bb7d-b475-4ced-8e7f-5dd49cabc43d",
   "metadata": {},
   "outputs": [],
   "source": [
    "stats.round(3)"
   ]
  },
  {
   "cell_type": "code",
   "execution_count": null,
   "id": "445b84aa-4275-4a12-a342-c0354a8c6bc4",
   "metadata": {},
   "outputs": [],
   "source": [
    "print(stats.round(3).to_latex())"
   ]
  },
  {
   "cell_type": "code",
   "execution_count": null,
   "id": "bc2d53ea-62a0-409e-b56d-543c11cfc678",
   "metadata": {},
   "outputs": [],
   "source": []
  }
 ],
 "metadata": {
  "kernelspec": {
   "display_name": "Python 3",
   "language": "python",
   "name": "python3"
  },
  "language_info": {
   "codemirror_mode": {
    "name": "ipython",
    "version": 3
   },
   "file_extension": ".py",
   "mimetype": "text/x-python",
   "name": "python",
   "nbconvert_exporter": "python",
   "pygments_lexer": "ipython3",
   "version": "3.7.9"
  }
 },
 "nbformat": 4,
 "nbformat_minor": 5
}
