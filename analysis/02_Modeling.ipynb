{
 "cells": [
  {
   "cell_type": "code",
   "execution_count": 1,
   "id": "9882b96c-b11d-4dec-b4c4-fee41a297dcb",
   "metadata": {},
   "outputs": [],
   "source": [
    "import os\n",
    "import numpy as np\n",
    "import matplotlib.pyplot as plt\n",
    "import seaborn as sns\n",
    "from pandas import DataFrame, concat, read_csv\n",
    "sns.set_theme(style='white', context='notebook', font_scale=1.33)"
   ]
  },
  {
   "cell_type": "markdown",
   "id": "1e0580cc-e96f-44fa-873d-36b89a833640",
   "metadata": {},
   "source": [
    "## Section 2: Factor Loadings"
   ]
  },
  {
   "cell_type": "code",
   "execution_count": 2,
   "id": "d802cf1c-824e-4ffb-8a54-75f22dc4c07e",
   "metadata": {},
   "outputs": [
    {
     "data": {
      "image/png": "[encoded data removed]",
      "text/plain": [
       "<Figure size 864x288 with 1 Axes>"
      ]
     },
     "metadata": {},
     "output_type": "display_data"
    }
   ],
   "source": [
    "## Load design data.\n",
    "design = read_csv(os.path.join('data', 'design.csv'), index_col=0)\n",
    "design = design[design.columns[:11]]\n",
    "\n",
    "## Load Stan summary.\n",
    "summary = read_csv(os.path.join('stan_results', 'joint', '2plq_m2_summary.tsv'), sep='\\t', index_col=0)\n",
    "\n",
    "## Extract factor loadings.\n",
    "loadings = np.zeros((len(design), 2)).astype(float)\n",
    "for i, j in np.column_stack([np.where(design)]).T:\n",
    "    loadings[i,int(j > 0)] = summary.loc[f'lambda[{i+1},{j+1}]','Mean']\n",
    "    \n",
    "## Convert to DataFrame.\n",
    "loadings = DataFrame(loadings, columns=['general','group'])\n",
    "loadings.insert(0, 'item', design.index)\n",
    "loadings.insert(0, 'subscale', design.columns[np.argmax(design.values[:,1:], axis=1)+1])\n",
    "\n",
    "order = ['PVA', 'NVEA', 'PN', 'WSV', 'WIPV', 'EN', 'PPhysA', 'SexA', 'PeerVA', 'PeerPhysA']\n",
    "loadings = loadings.sort_values('general', ascending=False)\n",
    "loadings = loadings.set_index('subscale').loc[order].reset_index()\n",
    "loadings['color'] = np.where(loadings.general > loadings.group, 'k', '#dd8452')\n",
    "loadings.index = np.cumsum(np.where(loadings.subscale == np.roll(loadings.subscale, 1), 1, 2.5)) - 2.5\n",
    "\n",
    "fig, ax = plt.subplots(1, 1, figsize=(12,4), constrained_layout=True)\n",
    "\n",
    "for i, row in loadings.iterrows():\n",
    "    ax.plot([i, i], [row.general, row.group], lw=2, color=row.color, zorder=-1)\n",
    "    ax.scatter(i, row.general, s=60, color=row.color)\n",
    "    \n",
    "ax.set(xlim=(loadings.index.min()-1, loadings.index.max()+1), xticks=loadings.index, \n",
    "       ylim=(0.0,0.88), ylabel='Factor loadings')\n",
    "ax.set_xticklabels(loadings.item, fontsize=11)\n",
    "ax.grid(which='major', axis='y', color='0.4', lw=0.1, zorder=-10)\n",
    "\n",
    "sns.despine(left=True)"
   ]
  },
  {
   "cell_type": "markdown",
   "id": "93e6331f-6a0b-4977-a304-04804361b358",
   "metadata": {},
   "source": [
    "#### Model 2a [Bifactor w/ 10 groups, joint data]"
   ]
  },
  {
   "cell_type": "code",
   "execution_count": null,
   "id": "bcce166d-10e3-4a33-b6a7-adae10dd474a",
   "metadata": {},
   "outputs": [],
   "source": [
    "studies = ['joint']\n",
    "\n",
    "## Load design data.\n",
    "design = read_csv(os.path.join('data', 'design.csv'), index_col=0)\n",
    "design = design[design.columns[:11]]\n",
    "\n",
    "stats = []\n",
    "for study in studies:\n",
    "    \n",
    "    #~~~~~~~~~~~~~~~~~~~~~~~~~~~~~~~~~~~~~~~~~~#\n",
    "    ### Load and prepare data.\n",
    "    #~~~~~~~~~~~~~~~~~~~~~~~~~~~~~~~~~~~~~~~~~~#\n",
    "\n",
    "    ## Load Stan summary.\n",
    "    summary = read_csv(os.path.join('stan_results', study, '2plq_m2_summary.tsv'), sep='\\t', index_col=0)\n",
    "    \n",
    "    ## Extract factor loadings.\n",
    "    loadings = np.zeros_like(design).astype(float)\n",
    "    for i, j in np.column_stack([np.where(design)]).T:\n",
    "        loadings[i,j] = summary.loc[f'lambda[{i+1},{j+1}]','Mean']\n",
    "        \n",
    "    ## Convert to DataFrame.\n",
    "    loadings = DataFrame(loadings.round(3), columns=design.columns, index=design.index)\n",
    "    \n",
    "    ## Re-organize DataFrame.\n",
    "    cols = ['general','PVA','PPhysA','NVEA','SexA','EN','PN','WSV','WIPV','PeerVA','PeerPhysA']\n",
    "    idx = np.concatenate([np.where(loadings[col])[0]+1 for col in cols[1:]])\n",
    "    loadings = loadings.loc[idx, cols]\n",
    "    \n",
    "    ## Compute summary.\n",
    "    loadings = loadings.replace({0:np.nan})\n",
    "    averages = loadings.median()\n",
    "    averages.name = 'summary'\n",
    "    loadings = loadings.append(averages)\n",
    "    \n",
    "    ## Format DataFrame.\n",
    "    loadings.loc[:,:] = np.where(loadings.notnull(), loadings.applymap(lambda x: '%0.3f' %x), '')"
   ]
  },
  {
   "cell_type": "code",
   "execution_count": null,
   "id": "900b244a-82ca-4720-85b9-4f97667da13b",
   "metadata": {},
   "outputs": [],
   "source": [
    "print(loadings.to_latex())"
   ]
  },
  {
   "cell_type": "markdown",
   "id": "1f916feb-0345-4bb9-80d7-ec04513adb83",
   "metadata": {},
   "source": [
    "## Section 3: Variance Decomposition"
   ]
  },
  {
   "cell_type": "code",
   "execution_count": null,
   "id": "41df98d6-5060-443b-9160-44679546b8a0",
   "metadata": {},
   "outputs": [],
   "source": [
    "studies = ['teicher2015', 'tuominen2022', 'joint']\n",
    "\n",
    "## Load design data.\n",
    "design = read_csv(os.path.join('data', 'design.csv'), index_col=0)\n",
    "design = design[design.columns[:11]]\n",
    "\n",
    "stats = []\n",
    "for study in studies:\n",
    "    \n",
    "    #~~~~~~~~~~~~~~~~~~~~~~~~~~~~~~~~~~~~~~~~~~#\n",
    "    ### Load and prepare data.\n",
    "    #~~~~~~~~~~~~~~~~~~~~~~~~~~~~~~~~~~~~~~~~~~#\n",
    "\n",
    "    ## Load Stan summary.\n",
    "    summary = read_csv(os.path.join('stan_results', study, '2plq_m2_summary.tsv'), sep='\\t', index_col=0)\n",
    "    \n",
    "    ## Extract factor loadings.\n",
    "    loadings = np.zeros_like(design).astype(float)\n",
    "    for i, j in np.column_stack([np.where(design)]).T:\n",
    "        loadings[i,j] = summary.loc[f'lambda[{i+1},{j+1}]','Mean']\n",
    "        \n",
    "    #~~~~~~~~~~~~~~~~~~~~~~~~~~~~~~~~~~~~~~~~~~#\n",
    "    ### Coefficient omega hierachical.\n",
    "    #~~~~~~~~~~~~~~~~~~~~~~~~~~~~~~~~~~~~~~~~~~#\n",
    "        \n",
    "    ## Preallocate space.\n",
    "    omega   = np.zeros(len(design.columns))\n",
    "    omega_s = np.zeros(len(design.columns))\n",
    "        \n",
    "    ## Iterate over factors.\n",
    "    for i, col in enumerate(design.columns):\n",
    "        \n",
    "        ## Restrict to items in group.\n",
    "        L = loadings[design[col]==1]\n",
    "        \n",
    "        ## Compute squared sum of factor loadings.\n",
    "        A = np.square(np.sum(L, axis=0))\n",
    "        \n",
    "        ## Compute sum of error variances.\n",
    "        B = np.sum(1 - np.square(L).sum(axis=1))\n",
    "        \n",
    "        ## Compute total variance.\n",
    "        C = np.sum(A) + B\n",
    "        \n",
    "        ## Compute coefficient omega.\n",
    "        omega[i] = A.sum() / C\n",
    "        \n",
    "        ## Compute coefficient omega subscale.\n",
    "        omega_s[i] = A[i] / C\n",
    "        \n",
    "    #~~~~~~~~~~~~~~~~~~~~~~~~~~~~~~~~~~~~~~~~~~#\n",
    "    ### Explained common variance.\n",
    "    #~~~~~~~~~~~~~~~~~~~~~~~~~~~~~~~~~~~~~~~~~~#\n",
    "        \n",
    "    ## Compute sum of squares.\n",
    "    ss = np.square(loadings).sum(axis=0)\n",
    "    \n",
    "    ## Compute explained common variance.\n",
    "    ecv = ss / ss.sum()\n",
    "    \n",
    "    #~~~~~~~~~~~~~~~~~~~~~~~~~~~~~~~~~~~~~~~~~~#\n",
    "    ### H-index\n",
    "    #~~~~~~~~~~~~~~~~~~~~~~~~~~~~~~~~~~~~~~~~~~#\n",
    "    \n",
    "    ## Preallocate space.\n",
    "    H = np.zeros(len(design.columns))\n",
    "    \n",
    "    ## Iterate over factors.\n",
    "    for i, col in enumerate(design.columns):\n",
    "        \n",
    "        ## Compute squared loadings.\n",
    "        s = np.square(loadings[:,i])\n",
    "        \n",
    "        ## Compute H-index.\n",
    "        H[i] = 1. / (1 + 1 / np.sum(s / (1-s)))\n",
    "    \n",
    "    #~~~~~~~~~~~~~~~~~~~~~~~~~~~~~~~~~~~~~~~~~~#\n",
    "    ### Convert to DataFrame.\n",
    "    #~~~~~~~~~~~~~~~~~~~~~~~~~~~~~~~~~~~~~~~~~~#\n",
    "    \n",
    "    stats.append(DataFrame(dict(\n",
    "        subscale = design.columns,\n",
    "        study = np.repeat(study, design.columns.size),\n",
    "        ecv = ecv,\n",
    "        omega = omega,\n",
    "        omega_s = omega_s,\n",
    "        H = H\n",
    "    )))\n",
    "    \n",
    "## Concatenate DataFrames.\n",
    "stats = concat(stats).replace({'teicher2015':1, 'tuominen2022': 2, 'joint': 3})\n",
    "\n",
    "## Convert to pivot table.\n",
    "stats = stats.pivot_table(['omega','omega_s','ecv','H'], 'subscale', 'study')\n",
    "\n",
    "## Re-organize table.\n",
    "index = ['general', 'PVA', 'PPhysA', 'NVEA', 'SexA', 'EN', 'PN', 'WSV', 'WIPV', 'PeerVA', 'PeerPhysA']\n",
    "stats = stats.loc[index, ['omega','omega_s','ecv','H']]"
   ]
  },
  {
   "cell_type": "code",
   "execution_count": null,
   "id": "f419bb7d-b475-4ced-8e7f-5dd49cabc43d",
   "metadata": {},
   "outputs": [],
   "source": [
    "stats.round(3)"
   ]
  },
  {
   "cell_type": "code",
   "execution_count": null,
   "id": "445b84aa-4275-4a12-a342-c0354a8c6bc4",
   "metadata": {},
   "outputs": [],
   "source": [
    "print(stats.round(3).to_latex())"
   ]
  },
  {
   "cell_type": "code",
   "execution_count": null,
   "id": "bc2d53ea-62a0-409e-b56d-543c11cfc678",
   "metadata": {},
   "outputs": [],
   "source": []
  }
 ],
 "metadata": {
  "kernelspec": {
   "display_name": "Python 3",
   "language": "python",
   "name": "python3"
  },
  "language_info": {
   "codemirror_mode": {
    "name": "ipython",
    "version": 3
   },
   "file_extension": ".py",
   "mimetype": "text/x-python",
   "name": "python",
   "nbconvert_exporter": "python",
   "pygments_lexer": "ipython3",
   "version": "3.7.9"
  }
 },
 "nbformat": 4,
 "nbformat_minor": 5
}
