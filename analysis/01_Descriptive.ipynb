{
 "cells": [
  {
   "cell_type": "code",
   "execution_count": 1,
   "id": "180e2efd-8189-4c95-b29a-2b03dc87692e",
   "metadata": {},
   "outputs": [],
   "source": [
    "import os\n",
    "import numpy as np\n",
    "import matplotlib.pyplot as plt\n",
    "import seaborn as sns\n",
    "from pandas import read_csv\n",
    "sns.set_theme(style='white', context='notebook', font_scale=1.33)"
   ]
  },
  {
   "cell_type": "markdown",
   "id": "f0392fc5-c37a-4e7c-8984-c38dcf12b969",
   "metadata": {},
   "source": [
    "## Section 1: Demographics"
   ]
  },
  {
   "cell_type": "code",
   "execution_count": 2,
   "id": "e1a908df-8305-40af-b12f-877ef4d45b8d",
   "metadata": {},
   "outputs": [],
   "source": [
    "## Load data.\n",
    "covariates = read_csv(os.path.join('data', 'covariates.csv'))\n",
    "\n",
    "## Apply screening.\n",
    "covariates = covariates.query('infreq <= 0.5')"
   ]
  },
  {
   "cell_type": "markdown",
   "id": "5ccaab7c-7470-4253-9bc1-44492025921c",
   "metadata": {},
   "source": [
    "#### 1.1 Gender composition"
   ]
  },
  {
   "cell_type": "code",
   "execution_count": 3,
   "id": "7aa60aa5-87ce-44f5-baaf-e5402b5f3062",
   "metadata": {},
   "outputs": [
    {
     "name": "stdout",
     "output_type": "stream",
     "text": [
      "study         gender        \n",
      "teicher2015   Female            670\n",
      "              Male              381\n",
      "tuominen2022  Female            310\n",
      "              Male              258\n",
      "              Other               9\n",
      "              Rather not say      5\n",
      "Name: gender, dtype: int64\n",
      "\n",
      "proportions test: z = 4.142 (p = 0.000)\n"
     ]
    }
   ],
   "source": [
    "from statsmodels.stats.proportion import proportions_ztest\n",
    "\n",
    "## Print gender composition.\n",
    "print(covariates.groupby('study').gender.value_counts(), end='\\n\\n')\n",
    "\n",
    "## Perform proportion test.\n",
    "stat, pval = proportions_ztest([670, 310], [1051, 582])\n",
    "print('proportions test: z = %0.3f (p = %0.3f)' %(stat, pval))"
   ]
  },
  {
   "cell_type": "markdown",
   "id": "21a296aa-9a28-4161-a4c0-5f8fdb44f709",
   "metadata": {},
   "source": [
    "#### 1.2 Age composition"
   ]
  },
  {
   "cell_type": "code",
   "execution_count": 4,
   "id": "e7cc1d58-82eb-4795-bb03-9378163505fa",
   "metadata": {},
   "outputs": [
    {
     "name": "stdout",
     "output_type": "stream",
     "text": [
      "               count   mean    std   min    25%    50%    75%    max\n",
      "study                                                               \n",
      "teicher2015   1051.0  23.11   1.66  18.2  21.82  23.15  24.46  27.15\n",
      "tuominen2022   582.0  30.23  11.73  18.0  22.00  26.50  35.75  80.00\n",
      "\n",
      "independent t-test: t = -19.313 (p = 0.000)\n"
     ]
    }
   ],
   "source": [
    "from scipy.stats import ttest_ind\n",
    "\n",
    "## Print age composition.\n",
    "print(covariates.groupby('study').age.describe().round(2), end='\\n\\n')\n",
    "\n",
    "## Perform independent t-test.\n",
    "stat, pval = ttest_ind(covariates.query('study == \"teicher2015\"').age,\n",
    "                       covariates.query('study == \"tuominen2022\"').age)\n",
    "print('independent t-test: t = %0.3f (p = %0.3f)' %(stat, pval))"
   ]
  },
  {
   "cell_type": "markdown",
   "id": "ba496155-24b8-423e-bf58-05d91b16a2fa",
   "metadata": {},
   "source": [
    "#### 1.3 Ethnic composition"
   ]
  },
  {
   "cell_type": "code",
   "execution_count": 5,
   "id": "a0dde477-7345-449f-af85-00e7b8972792",
   "metadata": {},
   "outputs": [
    {
     "name": "stdout",
     "output_type": "stream",
     "text": [
      "study         ethnicity             \n",
      "teicher2015   Not Hispanic or Latino    963\n",
      "              Hispanic or Latino         84\n",
      "tuominen2022  Not Hispanic or Latino    518\n",
      "              Hispanic or Latino         57\n",
      "              Rather not say              7\n",
      "Name: ethnicity, dtype: int64\n",
      "\n",
      "proportions test: z = -1.241 (p = 0.214)\n"
     ]
    }
   ],
   "source": [
    "from statsmodels.stats.proportion import proportions_ztest\n",
    "\n",
    "## Print gender composition.\n",
    "print(covariates.groupby('study').ethnicity.value_counts(), end='\\n\\n')\n",
    "\n",
    "## Perform proportion test.\n",
    "stat, pval = proportions_ztest([84, 57], [1051, 582])\n",
    "print('proportions test: z = %0.3f (p = %0.3f)' %(stat, pval))"
   ]
  },
  {
   "cell_type": "markdown",
   "id": "96a181a7-fdff-43a1-b182-8aff22994b61",
   "metadata": {},
   "source": [
    "#### 1.4 Racial composition"
   ]
  },
  {
   "cell_type": "code",
   "execution_count": 6,
   "id": "0358c804-677c-4d2e-ae3a-18e279daa9e5",
   "metadata": {},
   "outputs": [
    {
     "name": "stdout",
     "output_type": "stream",
     "text": [
      "study         race                         \n",
      "teicher2015   White                            806\n",
      "              Asian                            103\n",
      "              Black or African American         81\n",
      "              Other                             47\n",
      "              American Indian/Alaska Native     14\n",
      "tuominen2022  White                            441\n",
      "              Asian                             65\n",
      "              Black or African American         31\n",
      "              Multiracial                       26\n",
      "              Rather not say                    17\n",
      "              American Indian/Alaska Native      2\n",
      "Name: race, dtype: int64\n",
      "\n",
      "proportions test: z = 0.417 (p = 0.677)\n"
     ]
    }
   ],
   "source": [
    "from statsmodels.stats.proportion import proportions_ztest\n",
    "\n",
    "## Print gender composition.\n",
    "print(covariates.groupby('study').race.value_counts(), end='\\n\\n')\n",
    "\n",
    "## Perform proportion test.\n",
    "stat, pval = proportions_ztest([806, 441], [1051, 582])\n",
    "print('proportions test: z = %0.3f (p = %0.3f)' %(stat, pval))"
   ]
  },
  {
   "cell_type": "markdown",
   "id": "f927da5b-ec8b-46ac-8dc3-bc2e72947349",
   "metadata": {},
   "source": [
    "## Section 2: Item Endorsement"
   ]
  },
  {
   "cell_type": "code",
   "execution_count": 7,
   "id": "387ba0a5-e272-45f7-9619-d0af1668d095",
   "metadata": {},
   "outputs": [],
   "source": [
    "## Load data.\n",
    "mace = read_csv(os.path.join('data', 'mace.csv'))\n",
    "\n",
    "## Apply screening.\n",
    "mace = mace[mace.subject.isin(covariates.query('infreq <= 0.5').subject)]"
   ]
  },
  {
   "cell_type": "markdown",
   "id": "796ca5e7-62c4-41f3-b289-399a7b751c2b",
   "metadata": {},
   "source": [
    "#### 2.1 Item-level comparison"
   ]
  },
  {
   "cell_type": "code",
   "execution_count": 8,
   "id": "9deba38d-8c2c-4365-a6a3-b645df9e1980",
   "metadata": {},
   "outputs": [
    {
     "name": "stdout",
     "output_type": "stream",
     "text": [
      "spearman correlation: rho = 0.947\n",
      "\n"
     ]
    },
    {
     "data": {
      "image/png": "[encoded data removed]",
      "text/plain": [
       "<Figure size 432x432 with 3 Axes>"
      ]
     },
     "metadata": {},
     "output_type": "display_data"
    }
   ],
   "source": [
    "## Compute endorsement rate by study / item. \n",
    "pivot = mace.pivot_table('response','item','study')\n",
    "\n",
    "## Perform Spearman rank correlation.\n",
    "stat = pivot.corr(method='spearman').values[0,1]\n",
    "print('spearman correlation: rho = %0.3f' %stat, end='\\n\\n')\n",
    "\n",
    "## Initialize canvas.\n",
    "g = sns.JointGrid(data=pivot, xlim=(-0.01, 0.71), ylim=(-0.01, 0.71))\n",
    "\n",
    "## Plot endorsement distributions.\n",
    "sns.histplot(x='teicher2015', data=pivot, bins=np.arange(0.0,0.8,0.1), ax=g.ax_marg_x)\n",
    "sns.histplot(y='tuominen2022', data=pivot, bins=np.arange(0.0,0.8,0.1), ax=g.ax_marg_y)\n",
    "\n",
    "## Plot endorsement correlation.\n",
    "sns.scatterplot(x='teicher2015', y='tuominen2022', data=pivot, ax=g.ax_joint)\n",
    "g.ax_joint.plot([0,1], [0,1], color='0.5', linestyle='--', zorder=-1)\n",
    "g.ax_joint.set(xlabel='Teicher & Parigger (2015)', ylabel='Tuominen & Zorowitz (2022)');"
   ]
  },
  {
   "cell_type": "markdown",
   "id": "6c16bb56-d2b3-43c7-b596-962e4c653f0d",
   "metadata": {},
   "source": [
    "#### 2.2 Person-level comparison"
   ]
  },
  {
   "cell_type": "code",
   "execution_count": 9,
   "id": "a899ecdc-e02b-4ce2-b378-33c48b9886c3",
   "metadata": {},
   "outputs": [
    {
     "name": "stdout",
     "output_type": "stream",
     "text": [
      "independent t-test: t = -5.848 (p = 0.000)\n",
      "\n"
     ]
    },
    {
     "data": {
      "image/png": "[encoded data removed]",
      "text/plain": [
       "<Figure size 585x234 with 2 Axes>"
      ]
     },
     "metadata": {},
     "output_type": "display_data"
    }
   ],
   "source": [
    "## Compute endorsement rate by participant. \n",
    "gb = mace.groupby(['study','subject']).response.mean().reset_index()\n",
    "\n",
    "## Perform independent t-test.\n",
    "stat, pval = ttest_ind(gb.query('study == \"teicher2015\"').response,\n",
    "                       gb.query('study == \"tuominen2022\"').response)\n",
    "print('independent t-test: t = %0.3f (p = %0.3f)' %(stat, pval), end='\\n\\n')\n",
    "\n",
    "## Initialize canvas.\n",
    "g = sns.FacetGrid(data=gb, col='study', height=3.25, aspect=1.25)\n",
    "\n",
    "## Plot score distributions.\n",
    "g.map(sns.histplot, 'response', bins=np.linspace(0,1,11), stat='probability')\n",
    "g.set(xticks=np.arange(0,1.1,0.2));"
   ]
  },
  {
   "cell_type": "markdown",
   "id": "9eb90e25-94bb-4dcb-8b2d-f44fa03a2262",
   "metadata": {},
   "source": [
    "#### 2.3 Differential item functioning"
   ]
  },
  {
   "cell_type": "code",
   "execution_count": 10,
   "id": "2a64869b-6533-4922-ae96-5851002561b2",
   "metadata": {},
   "outputs": [],
   "source": [
    "from pandas import DataFrame, concat\n",
    "from statsmodels.api import Logit\n",
    "\n",
    "## Compute observed & rest scores.\n",
    "zscore = lambda x: (x - np.nanmean(x)) / np.nanstd(x)\n",
    "mace['score'] = mace.groupby('subject').response.transform(np.nansum)\n",
    "mace['rest'] = mace['score'] - mace['response'] \n",
    "mace['rest'] = zscore(mace.rest)\n",
    "\n",
    "## Dummy-code group variables.\n",
    "mace = mace.merge(covariates[['subject','gender','age']], on='subject')\n",
    "mace['gender'] = mace.gender.replace({'Male': -0.5, 'Female': 0.5, 'Other': 0, 'Rather not say': 0})\n",
    "mace['study'] = mace.study.replace({'teicher2015':-0.5, 'tuominen2022': 0.5})\n",
    "mace['age'] = zscore(mace.age)"
   ]
  },
  {
   "cell_type": "code",
   "execution_count": 11,
   "id": "c8a656a8-94d7-4eaa-8f9c-fecae1ecaef2",
   "metadata": {},
   "outputs": [],
   "source": [
    "\n",
    "## Define formula.\n",
    "formula = 'response ~ rest + study + gender + age'\n",
    "\n",
    "## Preallocate space.\n",
    "dif = []\n",
    "\n",
    "## Iterate over items.\n",
    "for item in mace.item.unique():\n",
    "        \n",
    "    ## Restrict DataFrame.\n",
    "    df = mace.query(f'item == {item}')\n",
    "    df = df[df.response.notnull()]\n",
    "    \n",
    "    ## Fit logistic regression model.\n",
    "    fit = Logit.from_formula(formula, data=df).fit(disp=0)\n",
    "    \n",
    "    ## Check convergence.\n",
    "    if not fit.mle_retvals['converged']: \n",
    "        print(item)\n",
    "        continue\n",
    "        \n",
    "    ## Convert to DataFrame.\n",
    "    df = DataFrame([fit.params, fit.tvalues, fit.pvalues], index=['coef','tval','pval']).T\n",
    "    df = df.reset_index().rename(columns={'index':'variable'}).round(6)\n",
    "    df.insert(0, 'item', item)\n",
    "    \n",
    "    ## Append.\n",
    "    dif.append(df)\n",
    "    \n",
    "## Concatenate DataFrames.\n",
    "dif = concat(dif).query('variable != \"Intercept\"').reset_index(drop=True)"
   ]
  },
  {
   "cell_type": "code",
   "execution_count": 12,
   "id": "2ca7ed48-70d3-4aa2-a9e3-4e7bd68e2e07",
   "metadata": {},
   "outputs": [],
   "source": [
    "coef = dif.pivot_table('coef', 'item', 'variable')\n",
    "pval = dif.pivot_table('pval', 'item', 'variable')\n",
    "large = np.logical_and(np.abs(2.35 * coef) > 1.5, pval < 0.05).astype(int)\n",
    "med = np.logical_and(np.abs(2.35 * coef) > 1, pval < 0.05).astype(int) - large"
   ]
  },
  {
   "cell_type": "code",
   "execution_count": 13,
   "id": "92be66d9-6719-40f1-999b-11857a750d75",
   "metadata": {},
   "outputs": [
    {
     "data": {
      "text/plain": [
       "variable\n",
       "age        0\n",
       "gender    11\n",
       "rest      52\n",
       "study     11\n",
       "dtype: int64"
      ]
     },
     "execution_count": 13,
     "metadata": {},
     "output_type": "execute_result"
    }
   ],
   "source": [
    "large.sum()"
   ]
  }
 ],
 "metadata": {
  "kernelspec": {
   "display_name": "Python 3",
   "language": "python",
   "name": "python3"
  },
  "language_info": {
   "codemirror_mode": {
    "name": "ipython",
    "version": 3
   },
   "file_extension": ".py",
   "mimetype": "text/x-python",
   "name": "python",
   "nbconvert_exporter": "python",
   "pygments_lexer": "ipython3",
   "version": "3.7.9"
  }
 },
 "nbformat": 4,
 "nbformat_minor": 5
}
